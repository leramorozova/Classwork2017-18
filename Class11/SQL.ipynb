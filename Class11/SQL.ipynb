{
 "cells": [
  {
   "cell_type": "markdown",
   "metadata": {},
   "source": [
    "# SQL на Python"
   ]
  },
  {
   "cell_type": "markdown",
   "metadata": {},
   "source": [
    "Создаем соединение с нашей базой данных (их может быть больше одного). Если файла в скобках нет, он создается сам. <br> Я взяла тестовую базу данных <a href=\"https://github.com/lerocha/chinook-database/blob/master/ChinookDatabase/DataSources/Chinook_Sqlite.sqlite\">отсюда</a>."
   ]
  },
  {
   "cell_type": "code",
   "execution_count": null,
   "metadata": {},
   "outputs": [],
   "source": [
    "import sqlite3\n",
    "\n",
    "conn = sqlite3.connect('Chinook_Sqlite.sqlite')"
   ]
  },
  {
   "cell_type": "markdown",
   "metadata": {},
   "source": [
    "Создаем курсор - это специальный объект который делает запросы и получает их результаты"
   ]
  },
  {
   "cell_type": "code",
   "execution_count": null,
   "metadata": {},
   "outputs": [],
   "source": [
    "cursor = conn.cursor()"
   ]
  },
  {
   "cell_type": "markdown",
   "metadata": {},
   "source": [
    "### Добываем информацию из таблицы:\n",
    "<b>SELECT column_name1, column_name2... FROM table</b> - получаем двумерный массив с инфой из нужных столбиков, а если нужна вся таблица, вместо названий столбиков можно написать <b>*</b>\n",
    "<br>\n",
    "<b>ORDER BY</b> - порядок\n",
    "<br>\n",
    "<b>LIMIT 3</b> - лимит количества выданных данных, в данном случае 3"
   ]
  },
  {
   "cell_type": "code",
   "execution_count": null,
   "metadata": {},
   "outputs": [],
   "source": [
    "cursor.execute(\"SELECT Name FROM Artist ORDER BY Name LIMIT 3\")\n",
    "\n",
    "# Получаем результат сделанного запроса\n",
    "results = cursor.fetchall()\n",
    "results2 =  cursor.fetchall()\n",
    "\n",
    "print(results)   # [('A Cor Do Som',), ('Aaron Copland & London Symphony Orchestra',), ('Aaron Goldberg',)]\n",
    "print(results2)  # []"
   ]
  },
  {
   "cell_type": "markdown",
   "metadata": {},
   "source": [
    "После получения результата из курсора, второй раз без повторения самого запроса егo получить нельзя — вернется пустой результат!"
   ]
  },
  {
   "cell_type": "markdown",
   "metadata": {},
   "source": [
    "## Запись в базу данных"
   ]
  },
  {
   "cell_type": "code",
   "execution_count": null,
   "metadata": {},
   "outputs": [],
   "source": [
    "# Делаем INSERT запрос к базе данных, используя обычный SQL-синтаксис\n",
    "cursor.execute(\"insert into Artist values (Null, 'A Aagrh!') \")\n",
    "\n",
    "# Если мы не просто читаем, но и вносим изменения в базу данных - необходимо сохранить транзакцию\n",
    "conn.commit()\n",
    "\n",
    "# Проверяем результат\n",
    "cursor.execute(\"SELECT Name FROM Artist ORDER BY Name LIMIT 3\")\n",
    "results = cursor.fetchall()\n",
    "print(results)  # [('A Aagrh!',), ('A Cor Do Som',), ('Aaron Copland & London Symphony Orchestra',)]"
   ]
  },
  {
   "cell_type": "markdown",
   "metadata": {},
   "source": [
    "Без <b>NULL</b> будет sqlite3.OperationalError: table Artist has 2 columns but 1 values were supplied<br><br>Если к базе установлено несколько соединений и одно из них осуществляет модификацю базы, то база SQLite залочивается до завершения (метод соединения <b>.commit()</b>) или отмены (метод соединения <b>.rollback()</b>) транзакции.\n",
    "## Разбиваем запрос на несколько строк в тройных кавычках\n",
    "\n",
    "Длинные запросы можно разбивать на несколько строк в произвольном порядке, если они заключены в тройные кавычки — одинарные ('''…''') или двойные (\"\"\"...\"\"\")"
   ]
  },
  {
   "cell_type": "code",
   "execution_count": null,
   "metadata": {},
   "outputs": [],
   "source": [
    "cursor.execute(\"\"\"\n",
    "  SELECT name\n",
    "  FROM Artist\n",
    "  ORDER BY Name LIMIT 3\n",
    "\"\"\")"
   ]
  },
  {
   "cell_type": "markdown",
   "metadata": {},
   "source": [
    "Конечно, в таком простом примере разбивка не имеет смысла, но на сложных длинных запросах она может кардинально повышать читаемость кода.\n",
    "\n",
    "## Объединяем запросы к базе данных в один вызов метода\n",
    "\n",
    "Метод курсора <b>.execute()</b> позволяет делать только один запрос за раз, при попытке сделать несколько через точку с запятой будет ошибка. Вот так вот ничего не выйдет:"
   ]
  },
  {
   "cell_type": "code",
   "execution_count": null,
   "metadata": {},
   "outputs": [],
   "source": [
    "cursor.execute(\"\"\"\n",
    "    insert into Artist values (Null, 'A Aagrh!');\n",
    "    insert into Artist values (Null, 'A Aagrh-2!');\n",
    "\"\"\")\n",
    "# sqlite3.Warning: You can only execute one statement at a time."
   ]
  },
  {
   "cell_type": "markdown",
   "metadata": {},
   "source": [
    "Для решения такой задачи можно либо несколько раз вызывать метод курсора .execute(), либо использовать метод курсора <b>.executescript()</b>"
   ]
  },
  {
   "cell_type": "code",
   "execution_count": null,
   "metadata": {},
   "outputs": [],
   "source": [
    "cursor.executescript(\"\"\"\n",
    " insert into Artist values (Null, 'A Aagrh!');\n",
    " insert into Artist values (Null, 'A Aagrh-2!');\n",
    "\"\"\")"
   ]
  },
  {
   "cell_type": "markdown",
   "metadata": {},
   "source": [
    "Данный метод также удобен, когда у нас запросы сохранены в отдельной переменной или даже в файле и нам его надо применить такой запрос к базе."
   ]
  },
  {
   "cell_type": "markdown",
   "metadata": {},
   "source": [
    "## Подстановка значений в запрос\n",
    "<b>Важно!</b> Никогда, ни при каких условиях, не используйте конкатенацию строк (+) или интерполяцию параметра в строке (%) для передачи переменных в SQL запрос. Такое формирование запроса, при возможности попадания в него пользовательских данных – это ворота для SQL-инъекций!\n",
    "<br>\n",
    "Правильный способ – использование второго аргумента метода .execute()\n",
    "<br>\n",
    "Возможны два варианта, но ни одним из этих способов не получится заменять имена таблиц: "
   ]
  },
  {
   "cell_type": "code",
   "execution_count": null,
   "metadata": {},
   "outputs": [],
   "source": [
    "# C подставновкой по порядку на места знаков вопросов:\n",
    "cursor.execute(\"SELECT Name FROM Artist ORDER BY Name LIMIT ?\", ('2'))\n",
    "\n",
    "# И с использованием именнованных замен:\n",
    "cursor.execute(\"SELECT Name from Artist ORDER BY Name LIMIT :limit\", {\"limit\": 3})"
   ]
  },
  {
   "cell_type": "markdown",
   "metadata": {},
   "source": [
    "## И многое другое, что можно делать с базой данных\n",
    "\n",
    "Делаем множественную вставку строк проходя по коллекции с помощью метода курсора <b>.executemany()</b>"
   ]
  },
  {
   "cell_type": "code",
   "execution_count": null,
   "metadata": {},
   "outputs": [],
   "source": [
    "# Обратите внимание, даже передавая одно значение - его нужно передавать кортежем!\n",
    "# Именно по этому тут используется запятая в скобках!\n",
    "new_artists = [\n",
    "    ('A Aagrh!',),\n",
    "    ('A Aagrh!-2',),\n",
    "    ('A Aagrh!-3',),\n",
    "]\n",
    "cursor.executemany(\"insert into Artist values (Null, ?);\", new_artists)"
   ]
  },
  {
   "cell_type": "markdown",
   "metadata": {},
   "source": [
    "Получаем результаты по одному, используя метод курсора <b>.fetchone()</b>\n",
    "<br>\n",
    "Он всегда возвращает кортеж или <b>None</b>. если запрос пустой.<br>\n",
    "<u><b>Важно!</b></u> Стандартный курсор забирает все данные с сервера сразу, не зависимо от того, используем мы .fetchall() или .fetchone()"
   ]
  },
  {
   "cell_type": "code",
   "execution_count": null,
   "metadata": {},
   "outputs": [],
   "source": [
    "cursor.execute(\"SELECT Name FROM Artist ORDER BY Name LIMIT 3\")\n",
    "print(cursor.fetchone())    # ('A Cor Do Som',)\n",
    "print(cursor.fetchone())    # ('Aaron Copland & London Symphony Orchestra',)\n",
    "print(cursor.fetchone())    # ('Aaron Goldberg',)\n",
    "print(cursor.fetchone())    # None"
   ]
  },
  {
   "cell_type": "markdown",
   "metadata": {},
   "source": [
    "Курсор как итератор:"
   ]
  },
  {
   "cell_type": "code",
   "execution_count": null,
   "metadata": {},
   "outputs": [],
   "source": [
    "# Использование курсора как итератора\n",
    "for row in cursor.execute('SELECT Name from Artist ORDER BY Name LIMIT 3'):\n",
    "        print(row)\n",
    "# ('A Cor Do Som',)\n",
    "# ('Aaron Copland & London Symphony Orchestra',)\n",
    "# ('Aaron Goldberg',)"
   ]
  },
  {
   "cell_type": "markdown",
   "metadata": {},
   "source": [
    "## Повышаем устойчивость кода \n",
    "\n",
    "Для большей устойчивости программы (особенно при операциях записи) можно оборачивать инструкции обращения к БД в блоки «try-except-else» и использовать встроенный в sqlite3 «родной» объект ошибок, например, так:"
   ]
  },
  {
   "cell_type": "code",
   "execution_count": null,
   "metadata": {},
   "outputs": [],
   "source": [
    "try:\n",
    "    cursor.execute(sql_statement)\n",
    "    result = cursor.fetchall()\n",
    "except sqlite3.DatabaseError as err:       \n",
    "    print(\"Error: \", err)\n",
    "else:\n",
    "    conn.commit()"
   ]
  }
 ],
 "metadata": {
  "kernelspec": {
   "display_name": "Python 3",
   "language": "python",
   "name": "python3"
  },
  "language_info": {
   "codemirror_mode": {
    "name": "ipython",
    "version": 3
   },
   "file_extension": ".py",
   "mimetype": "text/x-python",
   "name": "python",
   "nbconvert_exporter": "python",
   "pygments_lexer": "ipython3",
   "version": "3.6.3"
  }
 },
 "nbformat": 4,
 "nbformat_minor": 2
}
