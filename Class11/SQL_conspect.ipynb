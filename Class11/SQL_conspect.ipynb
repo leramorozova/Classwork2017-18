{
 "cells": [
  {
   "cell_type": "markdown",
   "metadata": {},
   "source": [
    "# SQL на Python"
   ]
  },
  {
   "cell_type": "markdown",
   "metadata": {},
   "source": [
    "Создаем соединение с нашей базой данных (их может быть больше одного). Если файла в скобках нет, он создается сам. <br> Я взяла тестовую базу данных <a href=\"https://github.com/lerocha/chinook-database/blob/master/ChinookDatabase/DataSources/Chinook_Sqlite.sqlite\">отсюда</a>."
   ]
  },
  {
   "cell_type": "code",
   "execution_count": null,
   "metadata": {},
   "outputs": [],
   "source": [
    "import sqlite3\n",
    "\n",
    "conn = sqlite3.connect('Chinook_Sqlite.sqlite')"
   ]
  },
  {
   "cell_type": "markdown",
   "metadata": {},
   "source": [
    "Создаем курсор - это специальный объект который делает запросы и получает их результаты"
   ]
  },
  {
   "cell_type": "code",
   "execution_count": null,
   "metadata": {},
   "outputs": [],
   "source": [
    "cursor = conn.cursor()"
   ]
  },
  {
   "cell_type": "markdown",
   "metadata": {},
   "source": [
    "<br>\n",
    "## Добываем информацию из таблицы:\n",
    "<b>SELECT column_name1, column_name2... FROM table</b> - получаем двумерный массив с инфой из нужных столбиков, а если нужна вся таблица, вместо названий столбиков можно написать <b>*</b>\n",
    "<br>\n",
    "<b>ORDER BY</b> - порядок, по какому столбику идет выравнивание\n",
    "<br>\n",
    "<b>LIMIT 3</b> - лимит количества выданных данных, в данном случае 3<br>\n",
    "<b>OFFSET</b> - c какого значения отсчитывать лимит (например, три входа с 20 строчки)"
   ]
  },
  {
   "cell_type": "code",
   "execution_count": null,
   "metadata": {},
   "outputs": [],
   "source": [
    "cursor.execute(\"SELECT Name FROM Artist ORDER BY Name LIMIT 3 OFFSET 1\")\n",
    "\n",
    "# Получаем результат сделанного запроса\n",
    "results = cursor.fetchall()\n",
    "results2 =  cursor.fetchall()\n",
    "\n",
    "print(results)   # [('A Cor Do Som',), ('Aaron Copland & London Symphony Orchestra',), ('Aaron Goldberg',)]\n",
    "print(results2)  # []"
   ]
  },
  {
   "cell_type": "markdown",
   "metadata": {},
   "source": [
    "После получения результата из курсора, второй раз без повторения самого запроса егo получить нельзя — вернется пустой результат!"
   ]
  },
  {
   "cell_type": "markdown",
   "metadata": {},
   "source": [
    "На выбор информации из таблицы можно накладывать ограничения с помощью <b>WHERE</b>, которые могут комбинироваться. В ограничениях работают симфолы =, !=, <, >, =>, >=.\n",
    "А также <b>BETWEEN … AND … </b> <i>(col_name BETWEEN 1.5 AND 10.5)</i><br> \n",
    "<b>NOT BETWEEN … AND … </b> <i>(col_name NOT BETWEEN 1 AND 10)</i><br>\n",
    "<b>IN (…) </b> <i>col_name IN (2, 4, 6)\n",
    "                  col_name IN (\"A\", \"B\", \"C\")</i> - строка является одним из данных объектов<br>\n",
    "<b>NOT IN (…) </b><i>col_name NOT IN (1, 3, 5)</i><br>\n",
    "<b>(NOT) LIKE</b> <i> col_name (NOT) LIKE \"ABC\"</i><br> - то же, что и != и =\n",
    "<b>%</b> <i>col_name LIKE \"%AT%\"</i> - получаем \"AT\", \"ATTIC\", \"CAT\" or even \"BATS\"<br>\n",
    "<b>___</b> <i>col_name LIKE \"AN_\"</i> - получаем \"AND\", но не \"AN\", восстанавливаем один символ в любом месте<br>"
   ]
  },
  {
   "cell_type": "code",
   "execution_count": null,
   "metadata": {},
   "outputs": [],
   "source": [
    "SELECT column, another_column, …\n",
    "FROM mytable\n",
    "WHERE condition\n",
    "    AND/OR another_condition\n",
    "    AND/OR …;\n",
    "    \n",
    "cursor.execute(\"SELECT id FROM movies WHERE id==6\")"
   ]
  },
  {
   "cell_type": "markdown",
   "metadata": {},
   "source": [
    "У execute() есть четкая регламентация порядка функций. GROUP BY идет только после WHERE, поэтому для того, чтобы добавить специфические условия для GROUP, мы можем использовать функцию <b>HAVING</b>:"
   ]
  },
  {
   "cell_type": "code",
   "execution_count": null,
   "metadata": {},
   "outputs": [],
   "source": [
    "cursor.execute('''SELECT role, SUM(years_employed)\n",
    "                FROM employees\n",
    "                GROUP BY role\n",
    "                HAVING role = \"Engineer\"''')"
   ]
  },
  {
   "cell_type": "markdown",
   "metadata": {},
   "source": [
    "А вообще порядок такой:"
   ]
  },
  {
   "cell_type": "code",
   "execution_count": null,
   "metadata": {},
   "outputs": [],
   "source": [
    "SELECT DISTINCT column, AGG_FUNC(column_or_expression), …\n",
    "FROM mytable\n",
    "    JOIN another_table\n",
    "      ON mytable.column = another_table.column\n",
    "    WHERE constraint_expression\n",
    "    GROUP BY column\n",
    "    HAVING constraint_expression\n",
    "    ORDER BY column ASC/DESC\n",
    "    LIMIT count OFFSET COUNT;"
   ]
  },
  {
   "cell_type": "markdown",
   "metadata": {},
   "source": [
    "<br>\n",
    "## Выражения в таблицах\n",
    "В SELECT можно использовать математические выражение и оператор <b>AS</b>. Последнее можно использовать для того, чтобы переименовывать столбики более удобным образом. Можно использовать такие штуки, как:\n",
    "<br><b>COUNT(*), COUNT(column)</b></br>\n",
    "<br><b>MIN(column)</b></br>\n",
    "<br><b>MAX(column)</b></br>\n",
    "<br><b>AVG(column)</b></br>\n",
    "<br><b>SUM(column)</b></br>"
   ]
  },
  {
   "cell_type": "code",
   "execution_count": null,
   "metadata": {},
   "outputs": [],
   "source": [
    "# Table: movies (Read-only)\n",
    "# id title        director       year   length_minutes\n",
    "# 1  Toy Story    John Lasseter  1995   81\n",
    "# 2  A Bug's Life John Lasseter  1998   95\n",
    "# 3  Toy Story 2  John Lasseter  1999   93\n",
    "# 4  Monsters     Pete Docter    2001   92\n",
    "# 5  Finding Nemo Andrew Stanton 2003   107\n",
    "...\n",
    "\n",
    "# Table: boxoffice (Read-only)\n",
    "# movie_id  rating    domestic_sales    international_sales\n",
    "# 5         8.2       380843261         555900000\n",
    "# 14        7.4       268492764         475066843\n",
    "# 88        8         206445654         417277164\n",
    "# 12        6.4       191452396         368400000\n",
    "# 3         7.9       245852179         239163000\n",
    "...\n",
    "\n",
    "# Задача: вывести названия всех фильмов и ранжировать их по суммарным домашним и международным\n",
    "# продажам в миллионах долларов.\n",
    "\n",
    "cursor.select('''SELECT title, (domestic_sales + international_sales) / 1000000 AS gross_sales_millions\n",
    "FROM movies\n",
    "  JOIN boxoffice\n",
    "    ON movies.id = boxoffice.movie_id''')\n",
    "\n",
    "# title                gross_sales_millions\n",
    "# Finding Nemo         936.743261\n",
    "# Monsters University  743.559607\n",
    "# Ratatouille          623.722818\n",
    "# Cars 2               559.852396\n",
    "# Toy Story 2          485.015179\n",
    "# The Incredibles      631.442092"
   ]
  },
  {
   "cell_type": "markdown",
   "metadata": {},
   "source": [
    "<br>\n",
    "## Объединение данных таблиц"
   ]
  },
  {
   "cell_type": "code",
   "execution_count": null,
   "metadata": {},
   "outputs": [],
   "source": [
    "#U) users               D) departments\n",
    "#id name       d_id     id  name\n",
    "#-- ----       ----     --  ----\n",
    "# 1  Владимир    1       1  Сейлз\n",
    "# 2  Антон       2       2  Поддержка\n",
    "# 3  Александр   6       3  Финансы\n",
    "# 4  Борис       2       4  Логистика\n",
    "# 5  Юрий        4"
   ]
  },
  {
   "cell_type": "markdown",
   "metadata": {},
   "source": [
    "Внутреннее объединение <b>INNER JOIN</b> (синоним JOIN, ключевое слово INNER можно опустить) - выбираются только совпадающие данные из объединяемых таблиц.\n",
    "<br>\n",
    "Чтобы получить данные, которые подходят по условию частично, необходимо использовать внешнее объединение - <b>OUTER JOIN</b>. Такое объединение вернет данные из обеих таблиц (совпадающие по условию объединения) ПЛЮС дополнит выборку оставшимися данными из внешней таблицы, которые по условию не подходят, заполнив недостающие данные значением NULL."
   ]
  },
  {
   "cell_type": "code",
   "execution_count": null,
   "metadata": {},
   "outputs": [],
   "source": [
    "cursor.execute('''SELECT u.id, u.name, d.name AS d_name \n",
    "               FROM users u \n",
    "               INNER JOIN departments d ON u.d_id = d.id''')\n",
    "\n",
    "# В результате отсутствуют:\n",
    "# - пользователь Александр (отдел 6 - не существует)\n",
    "# - отдел Финансы (нет пользователей) \n",
    "\n",
    "# id name       d_name\n",
    "# -- --------   ---------\n",
    "# 1  Владимир    Сейлз\n",
    "# 2  Антон       Поддержка\n",
    "# 4  Борис       Поддержка\n",
    "# 3  Юрий        Логистика"
   ]
  },
  {
   "cell_type": "markdown",
   "metadata": {},
   "source": [
    "Существует два типа внешнего объединения OUTER JOIN - <b>LEFT OUTER JOIN</b> и <b>RIGHT OUTER JOIN</b>. Работают они одинаково, разница заключается в том что LEFT - указывает что \"внешней\" таблицей будет находящаяся слева (в нашем примере это таблица users).Ключевое слово OUTER можно опустить. Запись LEFT JOIN идентична LEFT OUTER JOIN."
   ]
  },
  {
   "cell_type": "code",
   "execution_count": null,
   "metadata": {},
   "outputs": [],
   "source": [
    "cursor.execute('''SELECT u.id, u.name, d.name AS d_name\n",
    "                FROM users u\n",
    "                LEFT OUTER JOIN departments d ON u.d_id = d.id''')\n",
    "\n",
    "# Получаем полный список пользователей и сопоставленные департаменты.\n",
    "# id      name          d_name\n",
    "# --      --------      ---------\n",
    "# 1       Владимир      Сейлз\n",
    "# 2       Антон         Поддержка\n",
    "# 3       Александр     NULL\n",
    "# 4       Борис         Поддержка\n",
    "# 5       Юрий          Логистика"
   ]
  },
  {
   "cell_type": "markdown",
   "metadata": {},
   "source": [
    "Добавив условие <b>WHERE d.id IS NULL</b> в выборке останется только \"3 Александр\", так как у него не назначен департамент.<br> <b>RIGHT OUTER JOIN</b> вернет полный список департаментов (правая таблица) и сопоставленных пользователей."
   ]
  },
  {
   "cell_type": "code",
   "execution_count": null,
   "metadata": {},
   "outputs": [],
   "source": [
    "cursor.execute('''SELECT u.id, u.name, d.name AS d_name\n",
    "            FROM users u\n",
    "            RIGHT OUTER JOIN departments d ON u.d_id = d.id''')\n",
    "\n",
    "# id      name        d_name\n",
    "# --      --------    ---------\n",
    "# 1       Владимир    Сейлз\n",
    "# 2       Антон       Поддержка\n",
    "# 4       Борис       Поддержка\n",
    "# NULL    NULL        Финансы\n",
    "# 5       Юрий        Логистика"
   ]
  },
  {
   "cell_type": "markdown",
   "metadata": {},
   "source": [
    "<br>\n",
    "## Запись в базу данных"
   ]
  },
  {
   "cell_type": "code",
   "execution_count": null,
   "metadata": {},
   "outputs": [],
   "source": [
    "# Делаем INSERT запрос к базе данных, используя обычный SQL-синтаксис\n",
    "cursor.execute(\"insert into Artist values (Null, 'A Aagrh!') \")\n",
    "\n",
    "# Если мы не просто читаем, но и вносим изменения в базу данных - необходимо сохранить транзакцию\n",
    "conn.commit()\n",
    "\n",
    "# Проверяем результат\n",
    "cursor.execute(\"SELECT Name FROM Artist ORDER BY Name LIMIT 3\")\n",
    "results = cursor.fetchall()\n",
    "print(results)  # [('A Aagrh!',), ('A Cor Do Som',), ('Aaron Copland & London Symphony Orchestra',)]"
   ]
  },
  {
   "cell_type": "markdown",
   "metadata": {},
   "source": [
    "Без <b>NULL</b> будет sqlite3.OperationalError: table Artist has 2 columns but 1 values were supplied<br><br>Если к базе установлено несколько соединений и одно из них осуществляет модификацю базы, то база SQLite залочивается до завершения (метод соединения <b>.commit()</b>) или отмены (метод соединения <b>.rollback()</b>) транзакции.\n",
    "<br>\n",
    "<br>\n",
    "Также можно изменять информацию в уже существующих значениях с помощью <b>UPDATE</b>:"
   ]
  },
  {
   "cell_type": "code",
   "execution_count": null,
   "metadata": {},
   "outputs": [],
   "source": [
    "UPDATE movies\n",
    "SET title = \"Toy Story 3\", director = \"Lee Unkrich\"\n",
    "WHERE id = 11;"
   ]
  },
  {
   "cell_type": "markdown",
   "metadata": {},
   "source": [
    "И удалять с помощью <b>DELETE</b>:"
   ]
  },
  {
   "cell_type": "code",
   "execution_count": null,
   "metadata": {},
   "outputs": [],
   "source": [
    "DELETE FROM movies\n",
    "where year < 2005;"
   ]
  },
  {
   "cell_type": "markdown",
   "metadata": {},
   "source": [
    "А еще добавлять новые стобики через <b>ALTER TABLE</b> с помощью <b>ADD</b>, удалять с помощью <b>DROP</b>, переименовывать с помощью <b>RENAME</b>:"
   ]
  },
  {
   "cell_type": "code",
   "execution_count": null,
   "metadata": {},
   "outputs": [],
   "source": [
    "ALTER TABLE mytable\n",
    "ADD column DataType OptionalTableConstraint \n",
    "    DEFAULT default_value;\n",
    "    \n",
    "ALTER TABLE mytable\n",
    "DROP column_to_be_deleted;\n",
    "\n",
    "ALTER TABLE mytable\n",
    "RENAME TO new_table_name;"
   ]
  },
  {
   "cell_type": "markdown",
   "metadata": {},
   "source": [
    "<br>\n",
    "## Разбиваем запрос на несколько строк в тройных кавычках\n",
    "\n",
    "Длинные запросы можно разбивать на несколько строк в произвольном порядке, если они заключены в тройные кавычки — одинарные ('''…''') или двойные (\"\"\"...\"\"\")"
   ]
  },
  {
   "cell_type": "code",
   "execution_count": null,
   "metadata": {},
   "outputs": [],
   "source": [
    "cursor.execute(\"\"\"\n",
    "  SELECT name\n",
    "  FROM Artist\n",
    "  ORDER BY Name LIMIT 3\n",
    "\"\"\")"
   ]
  },
  {
   "cell_type": "markdown",
   "metadata": {},
   "source": [
    "Конечно, в таком простом примере разбивка не имеет смысла, но на сложных длинных запросах она может кардинально повышать читаемость кода.\n",
    "<br>\n",
    "<br>\n",
    "\n",
    "## Объединяем запросы к базе данных в один вызов метода\n",
    "\n",
    "Метод курсора <b>.execute()</b> позволяет делать только один запрос за раз, при попытке сделать несколько через точку с запятой будет ошибка. Вот так вот ничего не выйдет:"
   ]
  },
  {
   "cell_type": "code",
   "execution_count": null,
   "metadata": {},
   "outputs": [],
   "source": [
    "cursor.execute(\"\"\"\n",
    "    insert into Artist values (Null, 'A Aagrh!');\n",
    "    insert into Artist values (Null, 'A Aagrh-2!');\n",
    "\"\"\")\n",
    "# sqlite3.Warning: You can only execute one statement at a time."
   ]
  },
  {
   "cell_type": "markdown",
   "metadata": {},
   "source": [
    "Для решения такой задачи можно либо несколько раз вызывать метод курсора .execute(), либо использовать метод курсора <b>.executescript()</b>"
   ]
  },
  {
   "cell_type": "code",
   "execution_count": null,
   "metadata": {},
   "outputs": [],
   "source": [
    "cursor.executescript(\"\"\"\n",
    " insert into Artist values (Null, 'A Aagrh!');\n",
    " insert into Artist values (Null, 'A Aagrh-2!');\n",
    "\"\"\")"
   ]
  },
  {
   "cell_type": "markdown",
   "metadata": {},
   "source": [
    "Данный метод также удобен, когда у нас запросы сохранены в отдельной переменной или даже в файле и нам его надо применить такой запрос к базе."
   ]
  },
  {
   "cell_type": "markdown",
   "metadata": {},
   "source": [
    "## Подстановка значений в запрос\n",
    "<b>Важно!</b> Никогда, ни при каких условиях, не используйте конкатенацию строк (+) или интерполяцию параметра в строке (%) для передачи переменных в SQL запрос. Такое формирование запроса, при возможности попадания в него пользовательских данных – это ворота для SQL-инъекций!\n",
    "<br>\n",
    "Правильный способ – использование второго аргумента метода .execute()\n",
    "<br>\n",
    "Возможны два варианта, но ни одним из этих способов не получится заменять имена таблиц: "
   ]
  },
  {
   "cell_type": "code",
   "execution_count": null,
   "metadata": {},
   "outputs": [],
   "source": [
    "# C подставновкой по порядку на места знаков вопросов:\n",
    "cursor.execute(\"SELECT Name FROM Artist ORDER BY Name LIMIT ?\", ('2'))\n",
    "\n",
    "# И с использованием именнованных замен:\n",
    "cursor.execute(\"SELECT Name from Artist ORDER BY Name LIMIT :limit\", {\"limit\": 3})"
   ]
  },
  {
   "cell_type": "markdown",
   "metadata": {},
   "source": [
    "<br>\n",
    "## И многое другое, что можно делать с базой данных\n",
    "\n",
    "Делаем множественную вставку строк проходя по коллекции с помощью метода курсора <b>.executemany()</b>"
   ]
  },
  {
   "cell_type": "code",
   "execution_count": null,
   "metadata": {},
   "outputs": [],
   "source": [
    "# Обратите внимание, даже передавая одно значение - его нужно передавать кортежем!\n",
    "# Именно по этому тут используется запятая в скобках!\n",
    "new_artists = [\n",
    "    ('A Aagrh!',),\n",
    "    ('A Aagrh!-2',),\n",
    "    ('A Aagrh!-3',),\n",
    "]\n",
    "cursor.executemany(\"insert into Artist values (Null, ?);\", new_artists)"
   ]
  },
  {
   "cell_type": "markdown",
   "metadata": {},
   "source": [
    "Получаем результаты по одному, используя метод курсора <b>.fetchone()</b>\n",
    "<br>\n",
    "Он всегда возвращает кортеж или <b>None</b>. если запрос пустой.<br>\n",
    "<u><b>Важно!</b></u> Стандартный курсор забирает все данные с сервера сразу, не зависимо от того, используем мы .fetchall() или .fetchone()"
   ]
  },
  {
   "cell_type": "code",
   "execution_count": null,
   "metadata": {},
   "outputs": [],
   "source": [
    "cursor.execute(\"SELECT Name FROM Artist ORDER BY Name LIMIT 3\")\n",
    "print(cursor.fetchone())    # ('A Cor Do Som',)\n",
    "print(cursor.fetchone())    # ('Aaron Copland & London Symphony Orchestra',)\n",
    "print(cursor.fetchone())    # ('Aaron Goldberg',)\n",
    "print(cursor.fetchone())    # None"
   ]
  },
  {
   "cell_type": "markdown",
   "metadata": {},
   "source": [
    "Курсор как итератор:"
   ]
  },
  {
   "cell_type": "code",
   "execution_count": null,
   "metadata": {},
   "outputs": [],
   "source": [
    "# Использование курсора как итератора\n",
    "for row in cursor.execute('SELECT Name from Artist ORDER BY Name LIMIT 3'):\n",
    "        print(row)\n",
    "# ('A Cor Do Som',)\n",
    "# ('Aaron Copland & London Symphony Orchestra',)\n",
    "# ('Aaron Goldberg',)"
   ]
  },
  {
   "cell_type": "markdown",
   "metadata": {},
   "source": [
    "<br>\n",
    "## Повышаем устойчивость кода \n",
    "\n",
    "Для большей устойчивости программы (особенно при операциях записи) можно оборачивать инструкции обращения к БД в блоки «try-except-else» и использовать встроенный в sqlite3 «родной» объект ошибок, например, так:"
   ]
  },
  {
   "cell_type": "code",
   "execution_count": null,
   "metadata": {},
   "outputs": [],
   "source": [
    "try:\n",
    "    cursor.execute(sql_statement)\n",
    "    result = cursor.fetchall()\n",
    "except sqlite3.DatabaseError as err:       \n",
    "    print(\"Error: \", err)\n",
    "else:\n",
    "    conn.commit()"
   ]
  },
  {
   "cell_type": "markdown",
   "metadata": {},
   "source": [
    "Создаем таблицы при помощи <b>CREATE TABLE</b>. В каждом столбике должен быть указан тип данных и могут быть свои ограничения, почитать об этом можно <a href=\"https://sqlbolt.com/lesson/creating_tables\">тут.</a> Удаление происходить примерно так же <b>DROP TABLE</b>."
   ]
  },
  {
   "cell_type": "code",
   "execution_count": null,
   "metadata": {},
   "outputs": [],
   "source": [
    "cursor.execute('''CREATE TABLE IF NOT EXISTS mytable (\n",
    "    column DataType TableConstraint DEFAULT default_value,\n",
    "    another_column DataType TableConstraint DEFAULT default_value,\n",
    "    …\n",
    "    ''')\n",
    "\n",
    "cursor.execute('''DROP TABLE IF EXISTS mytable''')"
   ]
  }
 ],
 "metadata": {
  "kernelspec": {
   "display_name": "Python 3",
   "language": "python",
   "name": "python3"
  },
  "language_info": {
   "codemirror_mode": {
    "name": "ipython",
    "version": 3
   },
   "file_extension": ".py",
   "mimetype": "text/x-python",
   "name": "python",
   "nbconvert_exporter": "python",
   "pygments_lexer": "ipython3",
   "version": "3.6.3"
  }
 },
 "nbformat": 4,
 "nbformat_minor": 2
}
